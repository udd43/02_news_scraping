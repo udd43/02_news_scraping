{
 "cells": [
  {
   "cell_type": "code",
   "execution_count": 2,
   "id": "095e6f1b",
   "metadata": {},
   "outputs": [
    {
     "name": "stdout",
     "output_type": "stream",
     "text": [
      "\n",
      "=== 최신뉴스 ===\n",
      "\n",
      " '13K 짠물투' 로젠버그, 승리 소감은 첫 마디는 주승우·야수 향한 감사 인사 [IS 스타]\n",
      " https://news.nate.com/view/20250409n40411?mid=n0100\n"
     ]
    },
    {
     "data": {
      "text/html": [
       "<img src=\"https://thumbnews.nateimg.co.kr/news90///news.nateimg.co.kr/orgImg/is/2025/04/09/isp20250409000468.800x.8.jpg\" width=\"200\"/>"
      ],
      "text/plain": [
       "<IPython.core.display.Image object>"
      ]
     },
     "metadata": {},
     "output_type": "display_data"
    },
    {
     "name": "stdout",
     "output_type": "stream",
     "text": [
      "\n",
      " 곰 잡은 독수리\n",
      " https://news.nate.com/view/20250409n40412?mid=n0100\n"
     ]
    },
    {
     "data": {
      "text/html": [
       "<img src=\"https://thumbnews.nateimg.co.kr/news90///news.nateimg.co.kr/orgImg/na/2025/04/09/7227234_high.jpg\" width=\"200\"/>"
      ],
      "text/plain": [
       "<IPython.core.display.Image object>"
      ]
     },
     "metadata": {},
     "output_type": "display_data"
    },
    {
     "name": "stdout",
     "output_type": "stream",
     "text": [
      "\n",
      " 검찰, 건보공단 46억 횡령범 도운 '동료' 항소심서도 실형 구형\n",
      " https://news.nate.com/view/20250409n36340?mid=n0100\n"
     ]
    },
    {
     "data": {
      "text/html": [
       "<img src=\"https://thumbnews.nateimg.co.kr/news90///news.nateimg.co.kr/orgImg/na/2025/04/09/6432351_high.jpg\" width=\"200\"/>"
      ],
      "text/plain": [
       "<IPython.core.display.Image object>"
      ]
     },
     "metadata": {},
     "output_type": "display_data"
    },
    {
     "name": "stdout",
     "output_type": "stream",
     "text": [
      "\n",
      " 中, 보복관세·WTO 분쟁협의 요청…\"버틸 만하다\" 자신감 [美, 상호관세 발효]\n",
      " https://news.nate.com/view/20250409n35841?mid=n0100\n"
     ]
    },
    {
     "data": {
      "text/html": [
       "<img src=\"https://thumbnews.nateimg.co.kr/news90///news.nateimg.co.kr/orgImg/sg/2025/04/09/20250409518459.jpg\" width=\"200\"/>"
      ],
      "text/plain": [
       "<IPython.core.display.Image object>"
      ]
     },
     "metadata": {},
     "output_type": "display_data"
    },
    {
     "name": "stdout",
     "output_type": "stream",
     "text": [
      "\n",
      " 김서현, 1점차 승리 지켰어!\n",
      " https://news.nate.com/view/20250409n40408?mid=n0100\n"
     ]
    },
    {
     "data": {
      "text/html": [
       "<img src=\"https://thumbnews.nateimg.co.kr/news90///news.nateimg.co.kr/orgImg/sd/2025/04/09/131384506.1.jpg\" width=\"200\"/>"
      ],
      "text/plain": [
       "<IPython.core.display.Image object>"
      ]
     },
     "metadata": {},
     "output_type": "display_data"
    },
    {
     "name": "stdout",
     "output_type": "stream",
     "text": [
      "\n",
      "=== 정치 ===\n",
      "\n",
      " 이재명 당대표 사퇴…대권 행보 본격화 [6·3 장미대선 레이스]\n",
      " https://news.nate.com/view/20250409n35254?mid=n0101\n"
     ]
    },
    {
     "data": {
      "text/html": [
       "<img src=\"https://thumbnews.nateimg.co.kr/news90///news.nateimg.co.kr/orgImg/sg/2025/04/09/20250409517712.jpg\" width=\"200\"/>"
      ],
      "text/plain": [
       "<IPython.core.display.Image object>"
      ]
     },
     "metadata": {},
     "output_type": "display_data"
    },
    {
     "name": "stdout",
     "output_type": "stream",
     "text": [
      "\n",
      " 정부 \"관세율 낮추는 게 최우선 목표…美와 협상 시작\"\n",
      " https://news.nate.com/view/20250409n22769?mid=n0101\n"
     ]
    },
    {
     "data": {
      "text/html": [
       "<img src=\"https://thumbnews.nateimg.co.kr/news90///news.nateimg.co.kr/orgImg/dn/2025/04/09/news_1744201919_1483513_m_1.jpeg\" width=\"200\"/>"
      ],
      "text/plain": [
       "<IPython.core.display.Image object>"
      ]
     },
     "metadata": {},
     "output_type": "display_data"
    },
    {
     "name": "stdout",
     "output_type": "stream",
     "text": [
      "\n",
      " 이재명, 10일 영상 출마 선언…11일 비전 발표\n",
      " https://news.nate.com/view/20250409n40248?mid=n0101\n"
     ]
    },
    {
     "data": {
      "text/html": [
       "<img src=\"https://thumbnews.nateimg.co.kr/news90///news.nateimg.co.kr/orgImg/js/2025/04/09/17442016451744201645_njyul.jpg\" width=\"200\"/>"
      ],
      "text/plain": [
       "<IPython.core.display.Image object>"
      ]
     },
     "metadata": {},
     "output_type": "display_data"
    },
    {
     "name": "stdout",
     "output_type": "stream",
     "text": [
      "\n",
      " 경호처, 윤석열 체포저지 반대 간부 '해임 징계' 한덕수에 제청\n",
      " https://news.nate.com/view/20250409n40213?mid=n0101\n"
     ]
    },
    {
     "data": {
      "text/html": [
       "<img src=\"https://thumbnews.nateimg.co.kr/news90///news.nateimg.co.kr/orgImg/hn/2025/04/09/20250409504047.jpg\" width=\"200\"/>"
      ],
      "text/plain": [
       "<IPython.core.display.Image object>"
      ]
     },
     "metadata": {},
     "output_type": "display_data"
    },
    {
     "name": "stdout",
     "output_type": "stream",
     "text": [
      "\n",
      " 대권주자들 현장 비하인드…4가지 키워드로 보는 대선\n",
      " https://news.nate.com/view/20250409n40180?mid=n0101\n"
     ]
    },
    {
     "data": {
      "text/html": [
       "<img src=\"https://thumbnews.nateimg.co.kr/news90///news.nateimg.co.kr/orgImg/sv/2025/04/09/202059395_700.jpg\" width=\"200\"/>"
      ],
      "text/plain": [
       "<IPython.core.display.Image object>"
      ]
     },
     "metadata": {},
     "output_type": "display_data"
    },
    {
     "name": "stdout",
     "output_type": "stream",
     "text": [
      "\n",
      "=== 경제 ===\n",
      "\n",
      " 中·홍콩발 소액 소포 미국서 면세 혜택→관세 90%…테무 타격\n",
      " https://news.nate.com/view/20250409n40406?mid=n0102\n"
     ]
    },
    {
     "data": {
      "text/html": [
       "<img src=\"https://thumbnews.nateimg.co.kr/news90///news.nateimg.co.kr/orgImg/cz/2025/04/09/cz_1744202284825_798739_0.jpg\" width=\"200\"/>"
      ],
      "text/plain": [
       "<IPython.core.display.Image object>"
      ]
     },
     "metadata": {},
     "output_type": "display_data"
    },
    {
     "name": "stdout",
     "output_type": "stream",
     "text": [
      "\n",
      " 104%對84%,中관세에 대한 트럼프 대응에 시장 주목\n",
      " https://news.nate.com/view/20250409n40371?mid=n0102\n"
     ]
    },
    {
     "data": {
      "text/html": [
       "<img src=\"https://thumbnews.nateimg.co.kr/news90///news.nateimg.co.kr/orgImg/hk/2025/04/09/ZA.40053835.1.jpg\" width=\"200\"/>"
      ],
      "text/plain": [
       "<IPython.core.display.Image object>"
      ]
     },
     "metadata": {},
     "output_type": "display_data"
    },
    {
     "name": "stdout",
     "output_type": "stream",
     "text": [
      "\n",
      " 코스피 2300선 붕괴…환율 1500원 초읽기\n",
      " https://news.nate.com/view/20250409n35240?mid=n0102\n"
     ]
    },
    {
     "data": {
      "text/html": [
       "<img src=\"https://thumbnews.nateimg.co.kr/news90///news.nateimg.co.kr/orgImg/sg/2025/04/09/20250409517822.jpg\" width=\"200\"/>"
      ],
      "text/plain": [
       "<IPython.core.display.Image object>"
      ]
     },
     "metadata": {},
     "output_type": "display_data"
    },
    {
     "name": "stdout",
     "output_type": "stream",
     "text": [
      "\n",
      " 연세대 등 의대 5개교 \"복귀 결정 사과…투쟁 의지 굳건\" 성명\n",
      " https://news.nate.com/view/20250409n40287?mid=n0102\n"
     ]
    },
    {
     "data": {
      "text/html": [
       "<img src=\"https://thumbnews.nateimg.co.kr/news90///news.nateimg.co.kr/orgImg/mt/2025/04/09/2025040921233560970_1.jpg\" width=\"200\"/>"
      ],
      "text/plain": [
       "<IPython.core.display.Image object>"
      ]
     },
     "metadata": {},
     "output_type": "display_data"
    },
    {
     "name": "stdout",
     "output_type": "stream",
     "text": [
      "\n",
      " 미중 또 '대격돌'…\"미국산에 50% 관세\" 정면으로 받아친 중국\n",
      " https://news.nate.com/view/20250409n39764?mid=n0102\n"
     ]
    },
    {
     "data": {
      "text/html": [
       "<img src=\"https://thumbnews.nateimg.co.kr/news90///news.nateimg.co.kr/orgImg/mt/2025/04/09/mt_1744201985380_951403_0.jpg\" width=\"200\"/>"
      ],
      "text/plain": [
       "<IPython.core.display.Image object>"
      ]
     },
     "metadata": {},
     "output_type": "display_data"
    },
    {
     "name": "stdout",
     "output_type": "stream",
     "text": [
      "\n",
      "=== 사회 ===\n",
      "\n",
      " 건강에 안 좋은 줄 알고 떼고 먹었는데…'이 음식'의 반전 평가\n",
      " https://news.nate.com/view/20250409n40415?mid=n0103\n"
     ]
    },
    {
     "data": {
      "text/html": [
       "<img src=\"https://thumbnews.nateimg.co.kr/news90///news.nateimg.co.kr/orgImg/dn/2025/04/09/news_1744202233_1483775_m_1.jpeg\" width=\"200\"/>"
      ],
      "text/plain": [
       "<IPython.core.display.Image object>"
      ]
     },
     "metadata": {},
     "output_type": "display_data"
    },
    {
     "name": "stdout",
     "output_type": "stream",
     "text": [
      "\n",
      " 검찰, 건보공단 46억 횡령범 도운 '동료' 항소심서도 실형 구형\n",
      " https://news.nate.com/view/20250409n36340?mid=n0103\n"
     ]
    },
    {
     "data": {
      "text/html": [
       "<img src=\"https://thumbnews.nateimg.co.kr/news90///news.nateimg.co.kr/orgImg/na/2025/04/09/6432351_high.jpg\" width=\"200\"/>"
      ],
      "text/plain": [
       "<IPython.core.display.Image object>"
      ]
     },
     "metadata": {},
     "output_type": "display_data"
    },
    {
     "name": "stdout",
     "output_type": "stream",
     "text": [
      "\n",
      " '남은게 없어'\n",
      " https://news.nate.com/view/20250409n40407?mid=n0103\n"
     ]
    },
    {
     "data": {
      "text/html": [
       "<img src=\"https://thumbnews.nateimg.co.kr/news90///news.nateimg.co.kr/orgImg/ns/2025/04/09/NISI20250409_0020766544_web.jpg\" width=\"200\"/>"
      ],
      "text/plain": [
       "<IPython.core.display.Image object>"
      ]
     },
     "metadata": {},
     "output_type": "display_data"
    },
    {
     "name": "stdout",
     "output_type": "stream",
     "text": [
      "\n",
      " 산불 지나간 사과농장\n",
      " https://news.nate.com/view/20250409n40405?mid=n0103\n"
     ]
    },
    {
     "data": {
      "text/html": [
       "<img src=\"https://thumbnews.nateimg.co.kr/news90///news.nateimg.co.kr/orgImg/ns/2025/04/09/NISI20250409_0020766545_web.jpg\" width=\"200\"/>"
      ],
      "text/plain": [
       "<IPython.core.display.Image object>"
      ]
     },
     "metadata": {},
     "output_type": "display_data"
    },
    {
     "name": "stdout",
     "output_type": "stream",
     "text": [
      "\n",
      " 경북 산불 피해, 불에 타버린 사과나무\n",
      " https://news.nate.com/view/20250409n40401?mid=n0103\n"
     ]
    },
    {
     "data": {
      "text/html": [
       "<img src=\"https://thumbnews.nateimg.co.kr/news90///news.nateimg.co.kr/orgImg/ns/2025/04/09/NISI20250409_0020766547_web.jpg\" width=\"200\"/>"
      ],
      "text/plain": [
       "<IPython.core.display.Image object>"
      ]
     },
     "metadata": {},
     "output_type": "display_data"
    },
    {
     "name": "stdout",
     "output_type": "stream",
     "text": [
      "\n",
      "=== 세계 ===\n",
      "\n",
      " \"레이건 이후 최악…집에 물품 있어도 미리 구입\" [美, 상호관세 발효]\n",
      " https://news.nate.com/view/20250409n35843?mid=n0104\n"
     ]
    },
    {
     "data": {
      "text/html": [
       "<img src=\"https://thumbnews.nateimg.co.kr/news90///news.nateimg.co.kr/orgImg/sg/2025/04/09/20250409518094.jpg\" width=\"200\"/>"
      ],
      "text/plain": [
       "<IPython.core.display.Image object>"
      ]
     },
     "metadata": {},
     "output_type": "display_data"
    },
    {
     "name": "stdout",
     "output_type": "stream",
     "text": [
      "\n",
      " 도미니카공화국 나이트클럽 지붕 무너져…\"최소 113명 사망\"\n",
      " https://news.nate.com/view/20250409n40414?mid=n0104\n"
     ]
    },
    {
     "data": {
      "text/html": [
       "<img src=\"https://thumbnews.nateimg.co.kr/news90///news.nateimg.co.kr/orgImg/ed/2025/04/09/PS25040901521.jpg\" width=\"200\"/>"
      ],
      "text/plain": [
       "<IPython.core.display.Image object>"
      ]
     },
     "metadata": {},
     "output_type": "display_data"
    },
    {
     "name": "stdout",
     "output_type": "stream",
     "text": [
      "\n",
      " 中, 보복관세·WTO 분쟁협의 요청…\"버틸 만하다\" 자신감 [美, 상호관세 발효]\n",
      " https://news.nate.com/view/20250409n35841?mid=n0104\n"
     ]
    },
    {
     "data": {
      "text/html": [
       "<img src=\"https://thumbnews.nateimg.co.kr/news90///news.nateimg.co.kr/orgImg/sg/2025/04/09/20250409518459.jpg\" width=\"200\"/>"
      ],
      "text/plain": [
       "<IPython.core.display.Image object>"
      ]
     },
     "metadata": {},
     "output_type": "display_data"
    },
    {
     "name": "stdout",
     "output_type": "stream",
     "text": [
      "\n",
      " [특종의발견] 관세 '핵 버튼' 끝내 누른 트럼프…\"민주당은 뭐하나?\" \"탄핵하자!\" 증시 반등 시그널은 언제쯤\n",
      " https://news.nate.com/view/20250409n40362?mid=n0104\n"
     ]
    },
    {
     "data": {
      "text/html": [
       "<img src=\"https://thumbnews.nateimg.co.kr/news90///news.nateimg.co.kr/orgImg/sv/2025/04/09/202059323_700.jpg\" width=\"200\"/>"
      ],
      "text/plain": [
       "<IPython.core.display.Image object>"
      ]
     },
     "metadata": {},
     "output_type": "display_data"
    },
    {
     "name": "stdout",
     "output_type": "stream",
     "text": [
      "\n",
      " [속보] 美 재무 \"미국 상장 中 기업 상폐 배제 않아\"\n",
      " https://news.nate.com/view/20250409n39858?mid=n0104\n"
     ]
    },
    {
     "data": {
      "text/html": [
       "<img src=\"https://thumbnews.nateimg.co.kr/news90///news.nateimg.co.kr/orgImg/kx/2025/04/09/2025040921083615048_1744200516_0027956399.jpg\" width=\"200\"/>"
      ],
      "text/plain": [
       "<IPython.core.display.Image object>"
      ]
     },
     "metadata": {},
     "output_type": "display_data"
    },
    {
     "name": "stdout",
     "output_type": "stream",
     "text": [
      "\n",
      "=== IT/과학 ===\n",
      "\n",
      " [포토]지드래곤, 오늘은 카이스트 권지용 교수님\n",
      " https://news.nate.com/view/20250409n40312?mid=n0105\n"
     ]
    },
    {
     "data": {
      "text/html": [
       "<img src=\"https://thumbnews.nateimg.co.kr/news90///news.nateimg.co.kr/orgImg/ae/2025/04/09/ae_1744202044691_764850_0.jpg\" width=\"200\"/>"
      ],
      "text/plain": [
       "<IPython.core.display.Image object>"
      ]
     },
     "metadata": {},
     "output_type": "display_data"
    },
    {
     "name": "stdout",
     "output_type": "stream",
     "text": [
      "\n",
      " 지디 말고 '카이스트 교수' 권지용…\"과학·예술, 맞닿아\"\n",
      " https://news.nate.com/view/20250409n39576?mid=n0105\n"
     ]
    },
    {
     "data": {
      "text/html": [
       "<img src=\"https://thumbnews.nateimg.co.kr/news90///news.nateimg.co.kr/orgImg/kx/2025/04/09/01400101.20250409500117.jpg\" width=\"200\"/>"
      ],
      "text/plain": [
       "<IPython.core.display.Image object>"
      ]
     },
     "metadata": {},
     "output_type": "display_data"
    },
    {
     "name": "stdout",
     "output_type": "stream",
     "text": [
      "\n",
      " 지란지교데이터, 첼라와 정보보호 및 개인정보 사업 확대 위한 MOU 체결\n",
      " https://news.nate.com/view/20250409n11306?mid=n0105\n"
     ]
    },
    {
     "data": {
      "text/html": [
       "<img src=\"https://thumbnews.nateimg.co.kr/news90///news.nateimg.co.kr/orgImg/cz/2025/04/09/cz_1744201684334_19497_0.jpg\" width=\"200\"/>"
      ],
      "text/plain": [
       "<IPython.core.display.Image object>"
      ]
     },
     "metadata": {},
     "output_type": "display_data"
    },
    {
     "name": "stdout",
     "output_type": "stream",
     "text": [
      "\n",
      " 네이버웹툰-문피아, 총 상금 3.3억원 '지상최대 웹소설 공모전' 개최\n",
      " https://news.nate.com/view/20250409n17086?mid=n0105\n"
     ]
    },
    {
     "data": {
      "text/html": [
       "<img src=\"https://thumbnews.nateimg.co.kr/news90///news.nateimg.co.kr/orgImg/cz/2025/04/09/cz_1744201565180_68345_0.jpg\" width=\"200\"/>"
      ],
      "text/plain": [
       "<IPython.core.display.Image object>"
      ]
     },
     "metadata": {},
     "output_type": "display_data"
    },
    {
     "name": "stdout",
     "output_type": "stream",
     "text": [
      "\n",
      " '꿈의 소재' 그래핀으로 투명 필름 개발\n",
      " https://news.nate.com/view/20250409n19793?mid=n0105\n"
     ]
    },
    {
     "data": {
      "text/html": [
       "<img src=\"https://thumbnews.nateimg.co.kr/news90///news.nateimg.co.kr/orgImg/cz/2025/04/09/cz_1744201450938_689474_0.jpg\" width=\"200\"/>"
      ],
      "text/plain": [
       "<IPython.core.display.Image object>"
      ]
     },
     "metadata": {},
     "output_type": "display_data"
    }
   ],
   "source": [
    "import requests\n",
    "from bs4 import BeautifulSoup\n",
    "from urllib.parse import urljoin\n",
    "from IPython.display import Image, display\n",
    "\n",
    "def scrape_nate_news():\n",
    "    sections = {\n",
    "        \"최신뉴스\": \"https://news.nate.com/recent?mid=n0100\",\n",
    "        \"정치\": \"https://news.nate.com/recent?mid=n0101\",\n",
    "        \"경제\": \"https://news.nate.com/recent?mid=n0102\",\n",
    "        \"사회\": \"https://news.nate.com/recent?mid=n0103\",\n",
    "        \"세계\": \"https://news.nate.com/recent?mid=n0104\",\n",
    "        \"IT/과학\": \"https://news.nate.com/recent?mid=n0105\"\n",
    "    }\n",
    "    \n",
    "    for section, url in sections.items():\n",
    "        print(f\"\\n=== {section} ===\")\n",
    "        \n",
    "        try:\n",
    "            response = requests.get(url, headers={'User-Agent': 'Mozilla/5.0'})\n",
    "            response.raise_for_status()\n",
    "            soup = BeautifulSoup(response.text, 'html.parser')\n",
    "            \n",
    "            news_list = soup.select('.mlt01')\n",
    "            \n",
    "            for news in news_list[:5]:  # 각 섹션에서 5개 기사만 출력\n",
    "                # 기사 제목\n",
    "                title_element = news.select_one('.tit')\n",
    "                title = title_element.get_text(strip=True) if title_element else \"제목 없음\"\n",
    "                \n",
    "                # 기사 링크\n",
    "                link_element = news.select_one('a')\n",
    "                link = link_element['href'] if link_element else \"#\"\n",
    "                if not link.startswith('http'):\n",
    "                    link = urljoin(url, link)\n",
    "                \n",
    "                # 이미지 URL\n",
    "                img_tag = news.select_one('img')\n",
    "                img_url = None\n",
    "                if img_tag and 'src' in img_tag.attrs:\n",
    "                    img_url = img_tag['src']\n",
    "                    if not img_url.startswith('http'):\n",
    "                        img_url = urljoin(url, img_url)\n",
    "                \n",
    "                print(f\"\\n {title}\")\n",
    "                print(f\" {link}\")\n",
    "                \n",
    "                if img_url:\n",
    "                    try:\n",
    "                        display(Image(url=img_url, width=200))\n",
    "                    except:\n",
    "                        print(\"이미지 로드 실패\")\n",
    "                else:\n",
    "                    print(\"이미지 없음\")\n",
    "                    \n",
    "        except requests.exceptions.RequestException as e:\n",
    "            print(f\"{section} 섹션을 가져오는 중 오류 발생:\", e)\n",
    "\n",
    "# 함수 실행\n",
    "scrape_nate_news()"
   ]
  },
  {
   "cell_type": "code",
   "execution_count": 1,
   "id": "981ca566",
   "metadata": {},
   "outputs": [
    {
     "name": "stdout",
     "output_type": "stream",
     "text": [
      " 001.jpg 다운로드 \n",
      " 002.jpg 다운로드 \n",
      " 003.jpg 다운로드 \n",
      " 004.jpg 다운로드 \n",
      " 005.jpg 다운로드 \n",
      " 006.jpg 다운로드 \n",
      " 007.jpg 다운로드 \n",
      " 008.jpg 다운로드 \n",
      " 009.jpg 다운로드 \n",
      " 010.jpg 다운로드 \n",
      " 011.jpg 다운로드 \n",
      " 012.jpg 다운로드 \n",
      " 013.jpg 다운로드 \n",
      " 014.jpg 다운로드 \n",
      " 015.jpg 다운로드 \n",
      " 016.jpg 다운로드 \n",
      " 017.jpg 다운로드 \n",
      " 018.jpg 다운로드 \n",
      " 019.jpg 다운로드 \n",
      " 020.jpg 다운로드 \n",
      " 021.jpg 다운로드 \n",
      " 022.jpg 다운로드 \n",
      " 023.jpg 다운로드 \n",
      " 024.jpg 다운로드 \n",
      " 025.jpg 다운로드 \n"
     ]
    }
   ],
   "source": [
    "import os\n",
    "import requests\n",
    "from bs4 import BeautifulSoup\n",
    "from urllib.parse import urljoin\n",
    "\n",
    "def download_one_episode(title, no, url):\n",
    "    # 저장 경로 설정 \n",
    "    save_dir = os.path.join(\"img\", title, str(no))\n",
    "    os.makedirs(save_dir, exist_ok=True)\n",
    "\n",
    "    # 헤더 설정 \n",
    "    headers = {\n",
    "        \"User-Agent\": \"Mozilla/5.0 (Windows NT 10.0; Win64; x64) AppleWebKit/537.36 (KHTML, like Gecko) Chrome/91.0.4472.124 Safari/537.36\"\n",
    "    }\n",
    "\n",
    "    try:\n",
    "        # 웹툰 페이지 요청\n",
    "        res = requests.get(url, headers=headers)\n",
    "        res.raise_for_status()  # HTTP 오류 확인\n",
    "        soup = BeautifulSoup(res.text, \"html.parser\")\n",
    "\n",
    "        # 웹툰 이미지 추출 (.wt_viewer > img)\n",
    "        images = soup.select(\".wt_viewer img\")\n",
    "\n",
    "        if not images:\n",
    "            print(\" 이미지를 찾을 수 없습니다.\")\n",
    "            return\n",
    "\n",
    "        # 이미지 다운로드\n",
    "        for idx, img in enumerate(images, 1):\n",
    "            img_url = img[\"src\"]\n",
    "            if not img_url.startswith(\"http\"):\n",
    "                img_url = urljoin(\"https://comic.naver.com\", img_url)\n",
    "\n",
    "            try:\n",
    "                img_data = requests.get(img_url, headers=headers).content\n",
    "                filename = f\"{idx:03d}.jpg\"  # 001.jpg, 002.jpg, ...\n",
    "                filepath = os.path.join(save_dir, filename)\n",
    "\n",
    "                with open(filepath, \"wb\") as f:\n",
    "                    f.write(img_data)\n",
    "\n",
    "                print(f\" {filename} 다운로드 \")\n",
    "            except Exception as e:\n",
    "                print(f\" 이미지 {idx} 다운로드 실패: {e}\")\n",
    "\n",
    "    except Exception as e:\n",
    "        print(f\"오류 발생: {e}\")\n",
    "\n",
    "# 실행 예시 (냐한남자 1회차, finish 주소 사용)\n",
    "download_one_episode(\n",
    "    title=\"냐한남자\", \n",
    "    no=1, \n",
    "    url=\"https://comic.naver.com/webtoon/detail?titleId=708452&no=1&week=finish\"\n",
    ")"
   ]
  }
 ],
 "metadata": {
  "kernelspec": {
   "display_name": "base",
   "language": "python",
   "name": "python3"
  },
  "language_info": {
   "codemirror_mode": {
    "name": "ipython",
    "version": 3
   },
   "file_extension": ".py",
   "mimetype": "text/x-python",
   "name": "python",
   "nbconvert_exporter": "python",
   "pygments_lexer": "ipython3",
   "version": "3.12.7"
  }
 },
 "nbformat": 4,
 "nbformat_minor": 5
}
